{
 "cells": [
  {
   "cell_type": "markdown",
   "metadata": {
    "colab_type": "text",
    "id": "SuGKs1J-uV0P"
   },
   "source": [
    "# Pensamento Computacional\n",
    "----\n",
    "UNIVERSIDADE CÂNDIDO MENDES - EAD <BR>\n",
    "TURMA: 01-2021"
   ]
  },
  {
   "cell_type": "markdown",
   "metadata": {
    "colab_type": "text",
    "id": "gZ8CNZNauNiX"
   },
   "source": [
    "## Unidade 02\n",
    "### Operadores Matemáticos"
   ]
  },
  {
   "cell_type": "code",
   "execution_count": null,
   "metadata": {
    "colab": {
     "base_uri": "https://localhost:8080/",
     "height": 33
    },
    "colab_type": "code",
    "executionInfo": {
     "elapsed": 592,
     "status": "ok",
     "timestamp": 1597337574588,
     "user": {
      "displayName": "Ricardo Tavares",
      "photoUrl": "https://lh3.googleusercontent.com/a-/AOh14GjyBwypXtP0vQPlp8EMLz46_421HtIN6kmLuT-H-A=s64",
      "userId": "09047318832172015376"
     },
     "user_tz": 180
    },
    "id": "jUZtsrhkuo9O",
    "outputId": "a78fc268-12ad-4ac1-e1bb-b8092c18430c"
   },
   "outputs": [],
   "source": [
    "5.95//4"
   ]
  },
  {
   "cell_type": "code",
   "execution_count": null,
   "metadata": {
    "colab": {
     "base_uri": "https://localhost:8080/",
     "height": 33
    },
    "colab_type": "code",
    "executionInfo": {
     "elapsed": 607,
     "status": "ok",
     "timestamp": 1597337916631,
     "user": {
      "displayName": "Ricardo Tavares",
      "photoUrl": "https://lh3.googleusercontent.com/a-/AOh14GjyBwypXtP0vQPlp8EMLz46_421HtIN6kmLuT-H-A=s64",
      "userId": "09047318832172015376"
     },
     "user_tz": 180
    },
    "id": "2QM3SZiBuv5S",
    "outputId": "10d83fd9-ceb3-492d-e905-497e7ac59d47"
   },
   "outputs": [],
   "source": [
    "5.95/4"
   ]
  },
  {
   "cell_type": "code",
   "execution_count": null,
   "metadata": {
    "colab": {
     "base_uri": "https://localhost:8080/",
     "height": 33
    },
    "colab_type": "code",
    "executionInfo": {
     "elapsed": 603,
     "status": "ok",
     "timestamp": 1597337968241,
     "user": {
      "displayName": "Ricardo Tavares",
      "photoUrl": "https://lh3.googleusercontent.com/a-/AOh14GjyBwypXtP0vQPlp8EMLz46_421HtIN6kmLuT-H-A=s64",
      "userId": "09047318832172015376"
     },
     "user_tz": 180
    },
    "id": "_DlTgGU7wlIG",
    "outputId": "a1ca6525-2979-4f0f-92a4-50ba32151e39"
   },
   "outputs": [],
   "source": [
    "6//2"
   ]
  },
  {
   "cell_type": "code",
   "execution_count": null,
   "metadata": {
    "colab": {
     "base_uri": "https://localhost:8080/",
     "height": 33
    },
    "colab_type": "code",
    "executionInfo": {
     "elapsed": 563,
     "status": "ok",
     "timestamp": 1597337974439,
     "user": {
      "displayName": "Ricardo Tavares",
      "photoUrl": "https://lh3.googleusercontent.com/a-/AOh14GjyBwypXtP0vQPlp8EMLz46_421HtIN6kmLuT-H-A=s64",
      "userId": "09047318832172015376"
     },
     "user_tz": 180
    },
    "id": "o-3URCphwxu5",
    "outputId": "ac67701f-96b9-4205-faf3-3e26a087ed9d"
   },
   "outputs": [],
   "source": [
    "6.5//2"
   ]
  },
  {
   "cell_type": "code",
   "execution_count": null,
   "metadata": {
    "colab": {
     "base_uri": "https://localhost:8080/",
     "height": 34
    },
    "colab_type": "code",
    "executionInfo": {
     "elapsed": 565,
     "status": "ok",
     "timestamp": 1597337985787,
     "user": {
      "displayName": "Ricardo Tavares",
      "photoUrl": "https://lh3.googleusercontent.com/a-/AOh14GjyBwypXtP0vQPlp8EMLz46_421HtIN6kmLuT-H-A=s64",
      "userId": "09047318832172015376"
     },
     "user_tz": 180
    },
    "id": "hXOcJwxxwzQn",
    "outputId": "59ba2eab-29db-4642-887a-fa554bd7e098"
   },
   "outputs": [],
   "source": [
    "6%2"
   ]
  },
  {
   "cell_type": "code",
   "execution_count": null,
   "metadata": {
    "colab": {
     "base_uri": "https://localhost:8080/",
     "height": 34
    },
    "colab_type": "code",
    "executionInfo": {
     "elapsed": 611,
     "status": "ok",
     "timestamp": 1597337991225,
     "user": {
      "displayName": "Ricardo Tavares",
      "photoUrl": "https://lh3.googleusercontent.com/a-/AOh14GjyBwypXtP0vQPlp8EMLz46_421HtIN6kmLuT-H-A=s64",
      "userId": "09047318832172015376"
     },
     "user_tz": 180
    },
    "id": "2F97TAu4w2Bo",
    "outputId": "10447da2-eb92-4bc5-a67c-f219288f3ef0"
   },
   "outputs": [],
   "source": [
    "6.5%2"
   ]
  },
  {
   "cell_type": "code",
   "execution_count": 43,
   "metadata": {
    "colab": {
     "base_uri": "https://localhost:8080/",
     "height": 51
    },
    "colab_type": "code",
    "executionInfo": {
     "elapsed": 4548,
     "status": "ok",
     "timestamp": 1597338405523,
     "user": {
      "displayName": "Ricardo Tavares",
      "photoUrl": "https://lh3.googleusercontent.com/a-/AOh14GjyBwypXtP0vQPlp8EMLz46_421HtIN6kmLuT-H-A=s64",
      "userId": "09047318832172015376"
     },
     "user_tz": 180
    },
    "id": "EDQ5iGYtw3WB",
    "outputId": "739e8c59-db4b-42b5-c264-5f1d6ddd944e"
   },
   "outputs": [
    {
     "name": "stdout",
     "output_type": "stream",
     "text": [
      "Favor insira um número inteiro: 11\n",
      "O número n: 11, é ímpar\n"
     ]
    }
   ],
   "source": [
    "n = input('Favor insira um número inteiro: ')\n",
    "n = int(n)\n",
    "if n%2 == 0:\n",
    "    print('O número n: {}, é par'.format(n))\n",
    "else:\n",
    "    print('O número n: {}, é ímpar'.format(n))"
   ]
  },
  {
   "cell_type": "code",
   "execution_count": 44,
   "metadata": {},
   "outputs": [
    {
     "name": "stdout",
     "output_type": "stream",
     "text": [
      "Favor insira um número inteiro: 10\n"
     ]
    },
    {
     "ename": "TypeError",
     "evalue": "not all arguments converted during string formatting",
     "output_type": "error",
     "traceback": [
      "\u001b[1;31m---------------------------------------------------------------------------\u001b[0m",
      "\u001b[1;31mTypeError\u001b[0m                                 Traceback (most recent call last)",
      "\u001b[1;32m<ipython-input-44-8f69d71aec20>\u001b[0m in \u001b[0;36m<module>\u001b[1;34m\u001b[0m\n\u001b[0;32m      1\u001b[0m \u001b[0mn\u001b[0m \u001b[1;33m=\u001b[0m \u001b[0minput\u001b[0m\u001b[1;33m(\u001b[0m\u001b[1;34m'Favor insira um número inteiro: '\u001b[0m\u001b[1;33m)\u001b[0m\u001b[1;33m\u001b[0m\u001b[1;33m\u001b[0m\u001b[0m\n\u001b[1;32m----> 2\u001b[1;33m \u001b[1;32mif\u001b[0m \u001b[0mn\u001b[0m\u001b[1;33m%\u001b[0m\u001b[1;36m2\u001b[0m \u001b[1;33m==\u001b[0m \u001b[1;36m0\u001b[0m\u001b[1;33m:\u001b[0m\u001b[1;33m\u001b[0m\u001b[1;33m\u001b[0m\u001b[0m\n\u001b[0m\u001b[0;32m      3\u001b[0m     \u001b[0mprint\u001b[0m\u001b[1;33m(\u001b[0m\u001b[1;34m'O número n: {}, é par'\u001b[0m\u001b[1;33m.\u001b[0m\u001b[0mformat\u001b[0m\u001b[1;33m(\u001b[0m\u001b[0mn\u001b[0m\u001b[1;33m)\u001b[0m\u001b[1;33m)\u001b[0m\u001b[1;33m\u001b[0m\u001b[1;33m\u001b[0m\u001b[0m\n\u001b[0;32m      4\u001b[0m \u001b[1;32melse\u001b[0m\u001b[1;33m:\u001b[0m\u001b[1;33m\u001b[0m\u001b[1;33m\u001b[0m\u001b[0m\n\u001b[0;32m      5\u001b[0m     \u001b[0mprint\u001b[0m\u001b[1;33m(\u001b[0m\u001b[1;34m'O número n: {}, é ímpar'\u001b[0m\u001b[1;33m.\u001b[0m\u001b[0mformat\u001b[0m\u001b[1;33m(\u001b[0m\u001b[0mn\u001b[0m\u001b[1;33m)\u001b[0m\u001b[1;33m)\u001b[0m\u001b[1;33m\u001b[0m\u001b[1;33m\u001b[0m\u001b[0m\n",
      "\u001b[1;31mTypeError\u001b[0m: not all arguments converted during string formatting"
     ]
    }
   ],
   "source": [
    "n = input('Favor insira um número inteiro: ')\n",
    "if n%2 == 0:\n",
    "    print('O número n: {}, é par'.format(n))\n",
    "else:\n",
    "    print('O número n: {}, é ímpar'.format(n))"
   ]
  },
  {
   "cell_type": "code",
   "execution_count": 45,
   "metadata": {},
   "outputs": [
    {
     "ename": "SyntaxError",
     "evalue": "invalid syntax (<ipython-input-45-535c796c00a7>, line 3)",
     "output_type": "error",
     "traceback": [
      "\u001b[1;36m  File \u001b[1;32m\"<ipython-input-45-535c796c00a7>\"\u001b[1;36m, line \u001b[1;32m3\u001b[0m\n\u001b[1;33m    if n%2 = 0:\u001b[0m\n\u001b[1;37m           ^\u001b[0m\n\u001b[1;31mSyntaxError\u001b[0m\u001b[1;31m:\u001b[0m invalid syntax\n"
     ]
    }
   ],
   "source": [
    "n = input('Favor insira um número inteiro: ')\n",
    "n = int(n)\n",
    "if n%2 = 0:\n",
    "    print('O número n: {}, é par'.format(n))\n",
    "else:\n",
    "    print('O número n: {}, é ímpar'.format(n))"
   ]
  },
  {
   "cell_type": "code",
   "execution_count": null,
   "metadata": {
    "colab": {},
    "colab_type": "code",
    "id": "O_Mh0Ek1ybh2"
   },
   "outputs": [],
   "source": [
    "equacao = input('Escreva uma equação: ')\n",
    "x = float(input('Digite o valor de x: '))\n",
    "print('{} = {} se x = {}'.format(equacao, eval(equacao), x))"
   ]
  },
  {
   "cell_type": "code",
   "execution_count": null,
   "metadata": {},
   "outputs": [],
   "source": [
    "x = input('Digite um número inteiro: ')\n",
    "while type(x) != int:\n",
    "    try: \n",
    "        x = int(x)\n",
    "        print(x)\n",
    "    except:\n",
    "        print('Usuário não digitou um número!')\n",
    "        x = input('Digite um número inteiro: ')\n",
    "    print(type(x))"
   ]
  },
  {
   "cell_type": "code",
   "execution_count": null,
   "metadata": {},
   "outputs": [],
   "source": [
    "valor_1 = 2\n",
    "valor_2 = 10\n",
    "valor_3 = 5\n",
    "\n",
    "valor_1+valor_2*10-valor_3/valor_1**2*valor_3"
   ]
  },
  {
   "cell_type": "code",
   "execution_count": null,
   "metadata": {},
   "outputs": [],
   "source": [
    "valor_1 = 2\n",
    "valor_2 = 10\n",
    "valor_3 = 5\n",
    "\n",
    "(valor_1+(valor_2*10)-valor_3)/((valor_1**2)*valor_3)"
   ]
  },
  {
   "cell_type": "code",
   "execution_count": null,
   "metadata": {},
   "outputs": [],
   "source": [
    "valor_1 = 2\n",
    "valor_2 = 10\n",
    "valor_3 = 5\n",
    "\n",
    "(valor_1+valor_2*10-valor_3)/valor_1**2*valor_3"
   ]
  },
  {
   "cell_type": "code",
   "execution_count": null,
   "metadata": {},
   "outputs": [],
   "source": [
    "1valor_1 = 2\n",
    "valor_2 = 10\n",
    "valor_3 = 5\n",
    "\n",
    "(valor_1+(valor_2*10)-valor_3)/((valor_1**2)*valor_3)"
   ]
  },
  {
   "cell_type": "code",
   "execution_count": null,
   "metadata": {},
   "outputs": [],
   "source": [
    "x = 2\n",
    "(x**2)+((23*(x-1))/(4*x))-(7*x)"
   ]
  },
  {
   "cell_type": "code",
   "execution_count": null,
   "metadata": {},
   "outputs": [],
   "source": [
    "x = 2\n",
    "x**2+23*x-1/4*x-7*x"
   ]
  },
  {
   "cell_type": "code",
   "execution_count": null,
   "metadata": {},
   "outputs": [],
   "source": [
    "x = 2\n",
    "(x**2)+(23*(x-1))/((4*x)-(7*x))"
   ]
  },
  {
   "cell_type": "code",
   "execution_count": null,
   "metadata": {},
   "outputs": [],
   "source": [
    "temp_c = input('Digite a temperatura em graus Celsius: ')\n",
    "temp_f = 1.8*temp_c+32\n",
    "temp_k = temp_c+273.15\n",
    "print('Temperatura em Celsius: {}'.format(temp_c))\n",
    "print('Temperatura em Fahrenheit: {}'.format(temp_f))\n",
    "print('Temperatura em Kelvin: {}'.format(temp_k))"
   ]
  },
  {
   "cell_type": "code",
   "execution_count": null,
   "metadata": {},
   "outputs": [],
   "source": [
    "temp_c = float(input('Digite a temperatura em graus Celsius: '))\n",
    "temp_f = 1.8*temp_c+32\n",
    "temp_k = temp_c+273.15\n",
    "print('Temperatura em Celsius: {}'.format(temp_c))\n",
    "print('Temperatura em Fahrenheit: {}'.format(temp_f))\n",
    "print('Temperatura em Kelvin: {}'.format(temp_k))"
   ]
  },
  {
   "cell_type": "code",
   "execution_count": 8,
   "metadata": {},
   "outputs": [
    {
     "name": "stdout",
     "output_type": "stream",
     "text": [
      "16/47/2020 - 22:08:02\n"
     ]
    }
   ],
   "source": [
    "from datetime import datetime\n",
    "hoje = datetime.now()\n",
    "print('{0}/{1}/{2} - {3}:{4}:{5}'.format(hoje.strftime('%d'),\n",
    "                                   hoje.strftime('%M'),\n",
    "                                   hoje.strftime('%Y'),\n",
    "                                   hoje.strftime('%H'),\n",
    "                                   hoje.strftime('%m'),\n",
    "                                   hoje.strftime('%S')))"
   ]
  },
  {
   "cell_type": "code",
   "execution_count": 1,
   "metadata": {},
   "outputs": [
    {
     "ename": "NameError",
     "evalue": "name 'datetime' is not defined",
     "output_type": "error",
     "traceback": [
      "\u001b[1;31m---------------------------------------------------------------------------\u001b[0m",
      "\u001b[1;31mNameError\u001b[0m                                 Traceback (most recent call last)",
      "\u001b[1;32m<ipython-input-1-f8c0046fa402>\u001b[0m in \u001b[0;36m<module>\u001b[1;34m\u001b[0m\n\u001b[1;32m----> 1\u001b[1;33m \u001b[0mhoje\u001b[0m \u001b[1;33m=\u001b[0m \u001b[0mdatetime\u001b[0m\u001b[1;33m.\u001b[0m\u001b[0mnow\u001b[0m\u001b[1;33m(\u001b[0m\u001b[1;33m)\u001b[0m\u001b[1;33m\u001b[0m\u001b[1;33m\u001b[0m\u001b[0m\n\u001b[0m\u001b[0;32m      2\u001b[0m print('{}/{}/{} - {}:{}:{}'.format(hoje.strftime('%d'),\n\u001b[0;32m      3\u001b[0m                                                    \u001b[0mhoje\u001b[0m\u001b[1;33m.\u001b[0m\u001b[0mstrftime\u001b[0m\u001b[1;33m(\u001b[0m\u001b[1;34m'%m'\u001b[0m\u001b[1;33m)\u001b[0m\u001b[1;33m,\u001b[0m\u001b[1;33m\u001b[0m\u001b[1;33m\u001b[0m\u001b[0m\n\u001b[0;32m      4\u001b[0m                                                    \u001b[0mhoje\u001b[0m\u001b[1;33m.\u001b[0m\u001b[0mstrftime\u001b[0m\u001b[1;33m(\u001b[0m\u001b[1;34m'%Y'\u001b[0m\u001b[1;33m)\u001b[0m\u001b[1;33m,\u001b[0m\u001b[1;33m\u001b[0m\u001b[1;33m\u001b[0m\u001b[0m\n\u001b[0;32m      5\u001b[0m                                                    \u001b[0mhoje\u001b[0m\u001b[1;33m.\u001b[0m\u001b[0mstrftime\u001b[0m\u001b[1;33m(\u001b[0m\u001b[1;34m'%H'\u001b[0m\u001b[1;33m)\u001b[0m\u001b[1;33m,\u001b[0m\u001b[1;33m\u001b[0m\u001b[1;33m\u001b[0m\u001b[0m\n",
      "\u001b[1;31mNameError\u001b[0m: name 'datetime' is not defined"
     ]
    }
   ],
   "source": [
    "hoje = datetime.now()\n",
    "print('{}/{}/{} - {}:{}:{}'.format(hoje.strftime('%d'),\n",
    "                                                   hoje.strftime('%m'),\n",
    "                                                   hoje.strftime('%Y'),\n",
    "                                                   hoje.strftime('%H'),\n",
    "                                                   hoje.strftime('%M'),\n",
    "                                                   hoje.strftime('%S')))"
   ]
  },
  {
   "cell_type": "code",
   "execution_count": 12,
   "metadata": {},
   "outputs": [
    {
     "name": "stdout",
     "output_type": "stream",
     "text": [
      "16/08/2020 - 22:55:32\n"
     ]
    }
   ],
   "source": [
    "from datetime import datetime\n",
    "import sys\n",
    "hoje = datetime.now()\n",
    "print('{0}/{1}/{2} - {3}:{4}:{5}'.format(hoje.strftime('%d'),\n",
    "                                   hoje.strftime('%m'),\n",
    "                                   hoje.strftime('%Y'),\n",
    "                                   hoje.strftime('%H'),\n",
    "                                   hoje.strftime('%M'),\n",
    "                                   hoje.strftime('%S')), file=sys.stdout)"
   ]
  },
  {
   "cell_type": "code",
   "execution_count": 13,
   "metadata": {},
   "outputs": [
    {
     "name": "stdout",
     "output_type": "stream",
     "text": [
      "Favor insira o valor da primeira nota: 8\n",
      "Favor insira o valor da segunda nota: 7\n",
      "Favor insira o valor da terceira nota: 8\n",
      "A média do aluno é:  53.4\n"
     ]
    }
   ],
   "source": [
    "nota_1 = 2 * float(input('Favor insira o valor da primeira nota: '))\n",
    "nota_2 = 5 * float(input('Favor insira o valor da segunda nota: '))\n",
    "nota_3 = 3 * float(input('Favor insira o valor da terceira nota: '))\n",
    "media = nota_1 + nota_2 + nota_3 / 10\n",
    "print('A média do aluno é: ', str(media))"
   ]
  },
  {
   "cell_type": "code",
   "execution_count": 14,
   "metadata": {},
   "outputs": [
    {
     "name": "stdout",
     "output_type": "stream",
     "text": [
      "Favor insira o valor da primeira nota: 8\n",
      "Favor insira o valor da segunda nota: 7\n",
      "Favor insira o valor da terceira nota: 8\n",
      "A média do aluno é:  7.5\n"
     ]
    }
   ],
   "source": [
    "nota_1 = 2 * float(input('Favor insira o valor da primeira nota: '))\n",
    "nota_2 = 5 * float(input('Favor insira o valor da segunda nota: '))\n",
    "nota_3 = 3 * float(input('Favor insira o valor da terceira nota: '))\n",
    "media = (nota_1 + nota_2 + nota_3) / 10\n",
    "print('A média do aluno é: ', str(media))"
   ]
  },
  {
   "cell_type": "code",
   "execution_count": 15,
   "metadata": {},
   "outputs": [
    {
     "name": "stdout",
     "output_type": "stream",
     "text": [
      "Favor insira o valor da primeira nota: 8\n",
      "Favor insira o valor da segunda nota: 7\n",
      "Favor insira o valor da terceira nota: 8\n",
      "A média do aluno é:  51.8\n"
     ]
    }
   ],
   "source": [
    "nota_1 = float(input('Favor insira o valor da primeira nota: '))\n",
    "nota_2 = float(input('Favor insira o valor da segunda nota: '))\n",
    "nota_3 = float(input('Favor insira o valor da terceira nota: '))\n",
    "media = nota_1*2 + nota_2*5 + nota_3*3 / (2*5*3)\n",
    "print('A média do aluno é: ', str(media))"
   ]
  },
  {
   "cell_type": "code",
   "execution_count": 16,
   "metadata": {},
   "outputs": [
    {
     "name": "stdout",
     "output_type": "stream",
     "text": [
      "Favor insira o valor da primeira nota: 8\n",
      "Favor insira o valor da segunda nota: 7\n",
      "Favor insira o valor da terceira nota: 8\n",
      "A média do aluno é:  2.5\n"
     ]
    }
   ],
   "source": [
    "nota_1 = float(input('Favor insira o valor da primeira nota: '))\n",
    "nota_2 = float(input('Favor insira o valor da segunda nota: '))\n",
    "nota_3 = float(input('Favor insira o valor da terceira nota: '))\n",
    "media = (nota_1*2 + nota_2*5 + nota_3*3) / (2*5*3)\n",
    "print('A média do aluno é: ', str(media))"
   ]
  },
  {
   "cell_type": "code",
   "execution_count": 18,
   "metadata": {},
   "outputs": [
    {
     "ename": "SyntaxError",
     "evalue": "unexpected EOF while parsing (<ipython-input-18-e86744ca31d1>, line 5)",
     "output_type": "error",
     "traceback": [
      "\u001b[1;36m  File \u001b[1;32m\"<ipython-input-18-e86744ca31d1>\"\u001b[1;36m, line \u001b[1;32m5\u001b[0m\n\u001b[1;33m    print('A média do aluno é: ', str(media)\u001b[0m\n\u001b[1;37m                                            ^\u001b[0m\n\u001b[1;31mSyntaxError\u001b[0m\u001b[1;31m:\u001b[0m unexpected EOF while parsing\n"
     ]
    }
   ],
   "source": [
    "nota_1 = float(input('Favor insira o valor da primeira nota: '))\n",
    "nota_2 = float(input('Favor insira o valor da segunda nota: '))\n",
    "nota_3 = float(input('Favor insira o valor da terceira nota: '))\n",
    "media = (nota_1*2 + nota_2*5 + nota_3*3) / (2+5+3)\n",
    "print('A média do aluno é: ', str(media)"
   ]
  },
  {
   "cell_type": "code",
   "execution_count": 27,
   "metadata": {},
   "outputs": [
    {
     "name": "stdout",
     "output_type": "stream",
     "text": [
      "A distância entre o ponto A e B é: 4.272001872658765\n"
     ]
    }
   ],
   "source": [
    "ponto_a_x = 1\n",
    "ponto_a_y = 1\n",
    "ponto_b_x = 2.5\n",
    "ponto_b_y = 5\n",
    "pitagoras = (((ponto_b_x - ponto_a_x)**2)+((ponto_b_y - ponto_a_y)**2))**(1/2)\n",
    "print('A distância entre o ponto A e B é: {}'.format(pitagoras))"
   ]
  },
  {
   "cell_type": "code",
   "execution_count": 28,
   "metadata": {},
   "outputs": [
    {
     "name": "stdout",
     "output_type": "stream",
     "text": [
      "A distância entre o ponto A e B é: 6.0\n"
     ]
    }
   ],
   "source": [
    "ponto_a_x = 1\n",
    "ponto_a_y = 1\n",
    "ponto_b_x = 2.5\n",
    "ponto_b_y = 5\n",
    "pitagoras = ponto_b_x - ponto_a_x**2+ponto_b_y - ponto_a_y**2**1/2\n",
    "print('A distância entre o ponto A e B é: {}'.format(pitagoras))"
   ]
  },
  {
   "cell_type": "code",
   "execution_count": 26,
   "metadata": {},
   "outputs": [
    {
     "ename": "TypeError",
     "evalue": "unsupported operand type(s) for -: 'tuple' and 'int'",
     "output_type": "error",
     "traceback": [
      "\u001b[1;31m---------------------------------------------------------------------------\u001b[0m",
      "\u001b[1;31mTypeError\u001b[0m                                 Traceback (most recent call last)",
      "\u001b[1;32m<ipython-input-26-8aaddbae009b>\u001b[0m in \u001b[0;36m<module>\u001b[1;34m\u001b[0m\n\u001b[0;32m      3\u001b[0m \u001b[0mponto_b_x\u001b[0m \u001b[1;33m=\u001b[0m \u001b[1;36m2\u001b[0m\u001b[1;33m,\u001b[0m\u001b[1;36m5\u001b[0m\u001b[1;33m\u001b[0m\u001b[1;33m\u001b[0m\u001b[0m\n\u001b[0;32m      4\u001b[0m \u001b[0mponto_b_y\u001b[0m \u001b[1;33m=\u001b[0m \u001b[1;36m5\u001b[0m\u001b[1;33m\u001b[0m\u001b[1;33m\u001b[0m\u001b[0m\n\u001b[1;32m----> 5\u001b[1;33m \u001b[0mpitagoras\u001b[0m \u001b[1;33m=\u001b[0m \u001b[1;33m(\u001b[0m\u001b[1;33m(\u001b[0m\u001b[1;33m(\u001b[0m\u001b[0mponto_b_x\u001b[0m \u001b[1;33m-\u001b[0m \u001b[0mponto_a_x\u001b[0m\u001b[1;33m)\u001b[0m\u001b[1;33m**\u001b[0m\u001b[1;36m2\u001b[0m\u001b[1;33m)\u001b[0m\u001b[1;33m+\u001b[0m\u001b[1;33m(\u001b[0m\u001b[1;33m(\u001b[0m\u001b[0mponto_b_y\u001b[0m \u001b[1;33m-\u001b[0m \u001b[0mponto_a_y\u001b[0m\u001b[1;33m)\u001b[0m\u001b[1;33m**\u001b[0m\u001b[1;36m2\u001b[0m\u001b[1;33m)\u001b[0m\u001b[1;33m)\u001b[0m\u001b[1;33m**\u001b[0m\u001b[1;33m(\u001b[0m\u001b[1;36m1\u001b[0m\u001b[1;33m/\u001b[0m\u001b[1;36m2\u001b[0m\u001b[1;33m)\u001b[0m\u001b[1;33m\u001b[0m\u001b[1;33m\u001b[0m\u001b[0m\n\u001b[0m\u001b[0;32m      6\u001b[0m \u001b[0mprint\u001b[0m\u001b[1;33m(\u001b[0m\u001b[1;34m'A distância entre o ponto A e B é: {}'\u001b[0m\u001b[1;33m.\u001b[0m\u001b[0mformat\u001b[0m\u001b[1;33m(\u001b[0m\u001b[0mpitagoras\u001b[0m\u001b[1;33m)\u001b[0m\u001b[1;33m)\u001b[0m\u001b[1;33m\u001b[0m\u001b[1;33m\u001b[0m\u001b[0m\n",
      "\u001b[1;31mTypeError\u001b[0m: unsupported operand type(s) for -: 'tuple' and 'int'"
     ]
    }
   ],
   "source": [
    "ponto_a_x = 1\n",
    "ponto_a_y = 1\n",
    "ponto_b_x = 2,5\n",
    "ponto_b_y = 5\n",
    "pitagoras = (((ponto_b_x - ponto_a_x)**2)+((ponto_b_y - ponto_a_y)**2))**(1/2)\n",
    "print('A distância entre o ponto A e B é: {}'.format(pitagoras))"
   ]
  },
  {
   "cell_type": "code",
   "execution_count": 29,
   "metadata": {},
   "outputs": [
    {
     "ename": "IndexError",
     "evalue": "tuple index out of range",
     "output_type": "error",
     "traceback": [
      "\u001b[1;31m---------------------------------------------------------------------------\u001b[0m",
      "\u001b[1;31mIndexError\u001b[0m                                Traceback (most recent call last)",
      "\u001b[1;32m<ipython-input-29-9383542a251d>\u001b[0m in \u001b[0;36m<module>\u001b[1;34m\u001b[0m\n\u001b[0;32m      4\u001b[0m \u001b[0mponto_b_y\u001b[0m \u001b[1;33m=\u001b[0m \u001b[1;36m5\u001b[0m\u001b[1;33m\u001b[0m\u001b[1;33m\u001b[0m\u001b[0m\n\u001b[0;32m      5\u001b[0m \u001b[0mpitagoras\u001b[0m \u001b[1;33m=\u001b[0m \u001b[1;33m(\u001b[0m\u001b[1;33m(\u001b[0m\u001b[1;33m(\u001b[0m\u001b[0mponto_b_x\u001b[0m \u001b[1;33m-\u001b[0m \u001b[0mponto_a_x\u001b[0m\u001b[1;33m)\u001b[0m\u001b[1;33m**\u001b[0m\u001b[1;36m2\u001b[0m\u001b[1;33m)\u001b[0m\u001b[1;33m+\u001b[0m\u001b[1;33m(\u001b[0m\u001b[1;33m(\u001b[0m\u001b[0mponto_b_y\u001b[0m \u001b[1;33m-\u001b[0m \u001b[0mponto_a_y\u001b[0m\u001b[1;33m)\u001b[0m\u001b[1;33m**\u001b[0m\u001b[1;36m2\u001b[0m\u001b[1;33m)\u001b[0m\u001b[1;33m)\u001b[0m\u001b[1;33m**\u001b[0m\u001b[1;33m(\u001b[0m\u001b[1;36m1\u001b[0m\u001b[1;33m/\u001b[0m\u001b[1;36m2\u001b[0m\u001b[1;33m)\u001b[0m\u001b[1;33m\u001b[0m\u001b[1;33m\u001b[0m\u001b[0m\n\u001b[1;32m----> 6\u001b[1;33m \u001b[0mprint\u001b[0m\u001b[1;33m(\u001b[0m\u001b[1;34m'A distância entre o ponto A e B é: {1}'\u001b[0m\u001b[1;33m.\u001b[0m\u001b[0mformat\u001b[0m\u001b[1;33m(\u001b[0m\u001b[0mpitagoras\u001b[0m\u001b[1;33m)\u001b[0m\u001b[1;33m)\u001b[0m\u001b[1;33m\u001b[0m\u001b[1;33m\u001b[0m\u001b[0m\n\u001b[0m",
      "\u001b[1;31mIndexError\u001b[0m: tuple index out of range"
     ]
    }
   ],
   "source": [
    "ponto_a_x = 1\n",
    "ponto_a_y = 1\n",
    "ponto_b_x = 2.5\n",
    "ponto_b_y = 5\n",
    "pitagoras = (((ponto_b_x - ponto_a_x)**2)+((ponto_b_y - ponto_a_y)**2))**(1/2)\n",
    "print('A distância entre o ponto A e B é: {1}'.format(pitagoras))"
   ]
  },
  {
   "cell_type": "code",
   "execution_count": 30,
   "metadata": {},
   "outputs": [
    {
     "ename": "TypeError",
     "evalue": "can only concatenate str (not \"float\") to str",
     "output_type": "error",
     "traceback": [
      "\u001b[1;31m---------------------------------------------------------------------------\u001b[0m",
      "\u001b[1;31mTypeError\u001b[0m                                 Traceback (most recent call last)",
      "\u001b[1;32m<ipython-input-30-77b9a0a425e1>\u001b[0m in \u001b[0;36m<module>\u001b[1;34m\u001b[0m\n\u001b[0;32m      4\u001b[0m \u001b[0mponto_b_y\u001b[0m \u001b[1;33m=\u001b[0m \u001b[1;36m5\u001b[0m\u001b[1;33m\u001b[0m\u001b[1;33m\u001b[0m\u001b[0m\n\u001b[0;32m      5\u001b[0m \u001b[0mpitagoras\u001b[0m \u001b[1;33m=\u001b[0m \u001b[1;33m(\u001b[0m\u001b[1;33m(\u001b[0m\u001b[1;33m(\u001b[0m\u001b[0mponto_b_x\u001b[0m \u001b[1;33m-\u001b[0m \u001b[0mponto_a_x\u001b[0m\u001b[1;33m)\u001b[0m\u001b[1;33m**\u001b[0m\u001b[1;36m2\u001b[0m\u001b[1;33m)\u001b[0m\u001b[1;33m+\u001b[0m\u001b[1;33m(\u001b[0m\u001b[1;33m(\u001b[0m\u001b[0mponto_b_y\u001b[0m \u001b[1;33m-\u001b[0m \u001b[0mponto_a_y\u001b[0m\u001b[1;33m)\u001b[0m\u001b[1;33m**\u001b[0m\u001b[1;36m2\u001b[0m\u001b[1;33m)\u001b[0m\u001b[1;33m)\u001b[0m\u001b[1;33m**\u001b[0m\u001b[1;33m(\u001b[0m\u001b[1;36m1\u001b[0m\u001b[1;33m/\u001b[0m\u001b[1;36m2\u001b[0m\u001b[1;33m)\u001b[0m\u001b[1;33m\u001b[0m\u001b[1;33m\u001b[0m\u001b[0m\n\u001b[1;32m----> 6\u001b[1;33m \u001b[0mprint\u001b[0m\u001b[1;33m(\u001b[0m\u001b[1;34m'A distância entre o ponto A e B é: '\u001b[0m \u001b[1;33m+\u001b[0m \u001b[0mpitagoras\u001b[0m\u001b[1;33m)\u001b[0m\u001b[1;33m\u001b[0m\u001b[1;33m\u001b[0m\u001b[0m\n\u001b[0m",
      "\u001b[1;31mTypeError\u001b[0m: can only concatenate str (not \"float\") to str"
     ]
    }
   ],
   "source": [
    "ponto_a_x = 1\n",
    "ponto_a_y = 1\n",
    "ponto_b_x = 2.5\n",
    "ponto_b_y = 5\n",
    "pitagoras = (((ponto_b_x - ponto_a_x)**2)+((ponto_b_y - ponto_a_y)**2))**(1/2)\n",
    "print('A distância entre o ponto A e B é: ' + pitagoras)"
   ]
  },
  {
   "cell_type": "code",
   "execution_count": 32,
   "metadata": {},
   "outputs": [
    {
     "name": "stdout",
     "output_type": "stream",
     "text": [
      "(0.9999999999999999-1j) ,  (1+1j)\n"
     ]
    }
   ],
   "source": [
    "a=-1\n",
    "b=2\n",
    "c=-2\n",
    "x1 = (-b + (((b**2)-(4*a*c))**(1/2)))/(2*a)\n",
    "x2 = (-b - (((b**2)-(4*a*c))**(1/2)))/(2*a)\n",
    "print(x1, ', ', x2)"
   ]
  },
  {
   "cell_type": "code",
   "execution_count": 35,
   "metadata": {},
   "outputs": [
    {
     "name": "stdout",
     "output_type": "stream",
     "text": [
      "-0.7320508075688772 ,  2.732050807568877\n"
     ]
    }
   ],
   "source": [
    "a=-1\n",
    "b=2\n",
    "c=2\n",
    "x1 = (-b + (((b**2)-(4*a*c))**(1/2)))/(2*a)\n",
    "x2 = (-b - (((b**2)-(4*a*c))**(1/2)))/(2*a)\n",
    "print(x1, ', ', x2)"
   ]
  },
  {
   "cell_type": "code",
   "execution_count": 37,
   "metadata": {},
   "outputs": [
    {
     "name": "stdout",
     "output_type": "stream",
     "text": [
      "(-2-1j) ,  (-2+1j)\n"
     ]
    }
   ],
   "source": [
    "a=-1\n",
    "b=2\n",
    "c=-2\n",
    "x1 = -b + (((b**2)-(4*a*c))**(1/2))/(2*a)\n",
    "x2 = -b - (((b**2)-(4*a*c))**(1/2))/(2*a)\n",
    "print(x1, ', ', x2)"
   ]
  },
  {
   "cell_type": "code",
   "execution_count": 41,
   "metadata": {},
   "outputs": [
    {
     "ename": "TypeError",
     "evalue": "unsupported operand type(s) for +: 'complex' and 'str'",
     "output_type": "error",
     "traceback": [
      "\u001b[1;31m---------------------------------------------------------------------------\u001b[0m",
      "\u001b[1;31mTypeError\u001b[0m                                 Traceback (most recent call last)",
      "\u001b[1;32m<ipython-input-41-2a7ea4fd2611>\u001b[0m in \u001b[0;36m<module>\u001b[1;34m\u001b[0m\n\u001b[0;32m      4\u001b[0m \u001b[0mx1\u001b[0m \u001b[1;33m=\u001b[0m \u001b[1;33m(\u001b[0m\u001b[1;33m-\u001b[0m\u001b[0mb\u001b[0m \u001b[1;33m+\u001b[0m \u001b[1;33m(\u001b[0m\u001b[1;33m(\u001b[0m\u001b[1;33m(\u001b[0m\u001b[0mb\u001b[0m\u001b[1;33m**\u001b[0m\u001b[1;36m2\u001b[0m\u001b[1;33m)\u001b[0m\u001b[1;33m-\u001b[0m\u001b[1;33m(\u001b[0m\u001b[1;36m4\u001b[0m\u001b[1;33m*\u001b[0m\u001b[0ma\u001b[0m\u001b[1;33m*\u001b[0m\u001b[0mc\u001b[0m\u001b[1;33m)\u001b[0m\u001b[1;33m)\u001b[0m\u001b[1;33m**\u001b[0m\u001b[1;33m(\u001b[0m\u001b[1;36m1\u001b[0m\u001b[1;33m/\u001b[0m\u001b[1;36m2\u001b[0m\u001b[1;33m)\u001b[0m\u001b[1;33m)\u001b[0m\u001b[1;33m)\u001b[0m\u001b[1;33m/\u001b[0m\u001b[1;33m(\u001b[0m\u001b[1;36m2\u001b[0m\u001b[1;33m*\u001b[0m\u001b[0ma\u001b[0m\u001b[1;33m)\u001b[0m\u001b[1;33m\u001b[0m\u001b[1;33m\u001b[0m\u001b[0m\n\u001b[0;32m      5\u001b[0m \u001b[0mx2\u001b[0m \u001b[1;33m=\u001b[0m \u001b[1;33m(\u001b[0m\u001b[1;33m-\u001b[0m\u001b[0mb\u001b[0m \u001b[1;33m-\u001b[0m \u001b[1;33m(\u001b[0m\u001b[1;33m(\u001b[0m\u001b[1;33m(\u001b[0m\u001b[0mb\u001b[0m\u001b[1;33m**\u001b[0m\u001b[1;36m2\u001b[0m\u001b[1;33m)\u001b[0m\u001b[1;33m-\u001b[0m\u001b[1;33m(\u001b[0m\u001b[1;36m4\u001b[0m\u001b[1;33m*\u001b[0m\u001b[0ma\u001b[0m\u001b[1;33m*\u001b[0m\u001b[0mc\u001b[0m\u001b[1;33m)\u001b[0m\u001b[1;33m)\u001b[0m\u001b[1;33m**\u001b[0m\u001b[1;33m(\u001b[0m\u001b[1;36m1\u001b[0m\u001b[1;33m/\u001b[0m\u001b[1;36m2\u001b[0m\u001b[1;33m)\u001b[0m\u001b[1;33m)\u001b[0m\u001b[1;33m)\u001b[0m\u001b[1;33m/\u001b[0m\u001b[1;33m(\u001b[0m\u001b[1;36m2\u001b[0m\u001b[1;33m*\u001b[0m\u001b[0ma\u001b[0m\u001b[1;33m)\u001b[0m\u001b[1;33m\u001b[0m\u001b[1;33m\u001b[0m\u001b[0m\n\u001b[1;32m----> 6\u001b[1;33m \u001b[0mprint\u001b[0m\u001b[1;33m(\u001b[0m\u001b[0mx1\u001b[0m \u001b[1;33m+\u001b[0m \u001b[1;34m', '\u001b[0m \u001b[1;33m+\u001b[0m \u001b[0mx2\u001b[0m\u001b[1;33m)\u001b[0m\u001b[1;33m\u001b[0m\u001b[1;33m\u001b[0m\u001b[0m\n\u001b[0m",
      "\u001b[1;31mTypeError\u001b[0m: unsupported operand type(s) for +: 'complex' and 'str'"
     ]
    }
   ],
   "source": [
    "a=-1\n",
    "b=2\n",
    "c=-2\n",
    "x1 = (-b + (((b**2)-(4*a*c))**(1/2)))/(2*a)\n",
    "x2 = (-b - (((b**2)-(4*a*c))**(1/2)))/(2*a)\n",
    "print(x1 + ', ' + x2)"
   ]
  },
  {
   "cell_type": "code",
   "execution_count": 1,
   "metadata": {},
   "outputs": [
    {
     "name": "stdout",
     "output_type": "stream",
     "text": [
      "Favor insira o valor da primeira nota: 10\n",
      "Favor insira o valor da segunda nota: 8\n",
      "Favor insira o valor da terceira nota: 10\n",
      "A média do aluno é: 9.333333333333334 . O aluno está: aprovado\n"
     ]
    }
   ],
   "source": [
    "nota_1 = float(input('Favor insira o valor da primeira nota: '))\n",
    "nota_2 = float(input('Favor insira o valor da segunda nota: '))\n",
    "nota_3 = float(input('Favor insira o valor da terceira nota: '))\n",
    "media = (nota_1+nota_2+nota_3)/3\n",
    "if (media >= 6.0):\n",
    "    status_aprovacao = 'aprovado'\n",
    "else:\n",
    "    status_aprovacao = 'reprovado'\n",
    "print('A média do aluno é: {} . O aluno está: {}'.format(media, status_aprovacao))"
   ]
  },
  {
   "cell_type": "code",
   "execution_count": null,
   "metadata": {},
   "outputs": [],
   "source": []
  }
 ],
 "metadata": {
  "colab": {
   "authorship_tag": "ABX9TyNzwWi2sF4GOBTlD4KrQAws",
   "collapsed_sections": [],
   "name": "Unidades.ipynb",
   "provenance": []
  },
  "kernelspec": {
   "display_name": "Python 3",
   "language": "python",
   "name": "python3"
  },
  "language_info": {
   "codemirror_mode": {
    "name": "ipython",
    "version": 3
   },
   "file_extension": ".py",
   "mimetype": "text/x-python",
   "name": "python",
   "nbconvert_exporter": "python",
   "pygments_lexer": "ipython3",
   "version": "3.8.3"
  }
 },
 "nbformat": 4,
 "nbformat_minor": 1
}
