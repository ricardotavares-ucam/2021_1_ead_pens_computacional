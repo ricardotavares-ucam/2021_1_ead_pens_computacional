{
 "cells": [
  {
   "cell_type": "markdown",
   "metadata": {},
   "source": [
    "# Pensamento Computacional\n",
    "----\n",
    "UNIVERSIDADE CÂNDIDO MENDES - EAD <BR>\n",
    "TURMA: 01-2021"
   ]
  },
  {
   "cell_type": "markdown",
   "metadata": {},
   "source": [
    "## Unidade 01\n",
    "### Introdução à linguagem Python"
   ]
  },
  {
   "cell_type": "code",
   "execution_count": 14,
   "metadata": {},
   "outputs": [
    {
     "name": "stdout",
     "output_type": "stream",
     "text": [
      "Olá mundo!\n"
     ]
    }
   ],
   "source": [
    "print('Olá mundo!')"
   ]
  },
  {
   "cell_type": "code",
   "execution_count": 15,
   "metadata": {},
   "outputs": [
    {
     "name": "stdout",
     "output_type": "stream",
     "text": [
      "O resultado da equação c = a * b é 50\n"
     ]
    }
   ],
   "source": [
    "a = 10\n",
    "b = 5\n",
    "c = a * b\n",
    "print('O resultado da equação c = a * b é {}'.format(c))"
   ]
  },
  {
   "cell_type": "code",
   "execution_count": 16,
   "metadata": {},
   "outputs": [
    {
     "name": "stdout",
     "output_type": "stream",
     "text": [
      "O resultado da equação c = a * b é 50.0\n",
      "<class 'float'>\n"
     ]
    }
   ],
   "source": [
    "a = 10.0\n",
    "b = 5\n",
    "c = a * b\n",
    "print('O resultado da equação c = a * b é {}'.format(c))\n",
    "print(type(c))"
   ]
  },
  {
   "cell_type": "code",
   "execution_count": 18,
   "metadata": {},
   "outputs": [
    {
     "name": "stdout",
     "output_type": "stream",
     "text": [
      "O resultado de c é False\n"
     ]
    }
   ],
   "source": [
    "# Tabelas verdades aplicadas ao Python\n",
    "\n",
    "a = True\n",
    "b = False\n",
    "c = (a and b)\n",
    "print('O resultado de c é {}'.format(c))"
   ]
  },
  {
   "cell_type": "code",
   "execution_count": 21,
   "metadata": {},
   "outputs": [
    {
     "name": "stdout",
     "output_type": "stream",
     "text": [
      "O resultado de c é False\n"
     ]
    }
   ],
   "source": [
    "# Tabelas verdades aplicadas ao Python\n",
    "\n",
    "a = False\n",
    "b = False\n",
    "c = (a or b)\n",
    "print('O resultado de c é {}'.format(c))"
   ]
  },
  {
   "cell_type": "code",
   "execution_count": 6,
   "metadata": {},
   "outputs": [
    {
     "name": "stdout",
     "output_type": "stream",
     "text": [
      "O resultado de c é True\n"
     ]
    }
   ],
   "source": [
    "# Tabelas verdades aplicadas ao Python\n",
    "\n",
    "a = True\n",
    "b = False\n",
    "c = (a or b)\n",
    "print('O resultado de c é {}'.format(c))"
   ]
  },
  {
   "cell_type": "code",
   "execution_count": 7,
   "metadata": {},
   "outputs": [
    {
     "name": "stdout",
     "output_type": "stream",
     "text": [
      "O resultado de c é False\n"
     ]
    }
   ],
   "source": [
    "# Tabelas verdades aplicadas ao Python\n",
    "\n",
    "a = False\n",
    "b = False\n",
    "c = (a or b)\n",
    "print('O resultado de c é {}'.format(c))"
   ]
  },
  {
   "cell_type": "code",
   "execution_count": 8,
   "metadata": {},
   "outputs": [
    {
     "name": "stdout",
     "output_type": "stream",
     "text": [
      "O resultado de c é False\n"
     ]
    }
   ],
   "source": [
    "# Tabelas verdades aplicadas ao Python\n",
    "a = True\n",
    "b = False\n",
    "c = (not(a) or b)\n",
    "print('O resultado de c é {}'.format(c))"
   ]
  },
  {
   "cell_type": "code",
   "execution_count": 22,
   "metadata": {},
   "outputs": [
    {
     "name": "stdout",
     "output_type": "stream",
     "text": [
      "Por favor, insira o nome do aluno: Davi\n",
      "Por favor, insira a nota da prova 01: 10.0\n",
      "Por favor, insira a nota da prova 02: 10.0\n",
      "Por favor, insira a nota da prova 03: 9.5\n",
      "A média do aluno: Davi, foi igual à: 9.833333333333334\n"
     ]
    }
   ],
   "source": [
    "nome_aluno = input('Por favor, insira o nome do aluno: ')\n",
    "nota_1 = input('Por favor, insira a nota da prova 01: ')\n",
    "nota_1 = float(nota_1)\n",
    "nota_2 = input('Por favor, insira a nota da prova 02: ')\n",
    "nota_2 = float(nota_2)\n",
    "nota_3 = input('Por favor, insira a nota da prova 03: ')\n",
    "nota_3 = float(nota_3)\n",
    "media_nota_aluno = (nota_1 + nota_2 + nota_3)/3\n",
    "print('A média do aluno: {}, foi igual à: {}'.format(nome_aluno, media_nota_aluno))"
   ]
  },
  {
   "cell_type": "code",
   "execution_count": 10,
   "metadata": {},
   "outputs": [
    {
     "name": "stdout",
     "output_type": "stream",
     "text": [
      "Por favor, insira o nome do aluno: Ricardo\n",
      "Por favor, insira a nota da prova 01: 9\n",
      "Por favor, insira a nota da prova 02: 8\n",
      "Por favor, insira a nota da prova 03: 7\n",
      "A média do aluno: Ricardo, foi igual à: 8.0\n"
     ]
    }
   ],
   "source": [
    "nome_aluno = input('Por favor, insira o nome do aluno: ')\n",
    "nota_1 = float(input('Por favor, insira a nota da prova 01: '))\n",
    "nota_2 = float(input('Por favor, insira a nota da prova 02: '))\n",
    "nota_3 = float(input('Por favor, insira a nota da prova 03: '))\n",
    "media_nota_aluno = (nota_1 + nota_2 + nota_3)/3\n",
    "print('A média do aluno: {}, foi igual à: {}'.format(nome_aluno, media_nota_aluno))"
   ]
  },
  {
   "cell_type": "code",
   "execution_count": 25,
   "metadata": {},
   "outputs": [
    {
     "name": "stdout",
     "output_type": "stream",
     "text": [
      "7.4\n"
     ]
    }
   ],
   "source": [
    "# dada as notas:\n",
    "nota_1 = 9\n",
    "nota_2 = 7\n",
    "nota_3 = 6\n",
    "# dado os pesos respectivos as notas:\n",
    "peso_1 = 3\n",
    "peso_2 = 5\n",
    "peso_3 = 2\n",
    "#elabore o código que fará a média ponderada das notas com seus respectivos pesos\n",
    "media = ((nota_1 * peso_1) + (nota_2 * peso_2) + (nota_3 * peso_3))/(peso_1+peso_2+peso_3)\n",
    "print(media)"
   ]
  },
  {
   "cell_type": "code",
   "execution_count": 1,
   "metadata": {},
   "outputs": [
    {
     "output_type": "stream",
     "name": "stdout",
     "text": [
      "Abaixo, insira as notas obtidas pelo aluno com seus respectivos pesos. Ex.: 9.5, 7\n",
      "nota: 10.0 - peso: 3\n"
     ]
    }
   ],
   "source": [
    "# split é um método da classe str que é usado para separar strings de acordo com um caracter especifico\n",
    "\n",
    "nome_aluno = input('Por favor, insira o nome do aluno: ')\n",
    "print('Abaixo, insira as notas obtidas pelo aluno com seus respectivos pesos. Ex.: 9.5, 7')\n",
    "nota_1 = input('Prova 01 - Digite Nota e Peso: ')\n",
    "nota_1, peso_1 = nota_1.split(',',2)\n",
    "nota_1 = float(nota_1)\n",
    "peso_1 = int(peso_1)\n",
    "print('nota: {} - peso: {}'.format(nota_1, peso_1))\n",
    "\n",
    "# agora faça para prova 02 e 03\n",
    "\n",
    "# agora calcule a média ponderada\n",
    "\n",
    "# imprima a mensagem para o professor\n"
   ]
  },
  {
   "cell_type": "code",
   "execution_count": 1,
   "metadata": {},
   "outputs": [],
   "source": [
    "var = '10.0,3,5'\n",
    "var1, var2, var3 = var.split(',',3)"
   ]
  },
  {
   "cell_type": "code",
   "execution_count": 2,
   "metadata": {},
   "outputs": [
    {
     "name": "stdout",
     "output_type": "stream",
     "text": [
      "10.0 3 5\n"
     ]
    }
   ],
   "source": [
    "print(var1, var2, var3)"
   ]
  },
  {
   "cell_type": "code",
   "execution_count": 3,
   "metadata": {},
   "outputs": [],
   "source": [
    "txt = '     olá, mundo    '\n",
    "txt = txt.strip()"
   ]
  },
  {
   "cell_type": "code",
   "execution_count": 4,
   "metadata": {},
   "outputs": [
    {
     "data": {
      "text/plain": [
       "'olá, mundo'"
      ]
     },
     "execution_count": 4,
     "metadata": {},
     "output_type": "execute_result"
    }
   ],
   "source": [
    "txt"
   ]
  },
  {
   "cell_type": "code",
   "execution_count": null,
   "metadata": {},
   "outputs": [],
   "source": []
  }
 ],
 "metadata": {
  "kernelspec": {
   "display_name": "Python 3",
   "language": "python",
   "name": "python3"
  },
  "language_info": {
   "codemirror_mode": {
    "name": "ipython",
    "version": 3
   },
   "file_extension": ".py",
   "mimetype": "text/x-python",
   "name": "python",
   "nbconvert_exporter": "python",
   "pygments_lexer": "ipython3",
   "version": "3.8.5-final"
  }
 },
 "nbformat": 4,
 "nbformat_minor": 4
}