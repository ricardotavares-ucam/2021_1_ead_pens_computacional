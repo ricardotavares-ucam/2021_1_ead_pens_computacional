{
 "cells": [
  {
   "cell_type": "markdown",
   "metadata": {},
   "source": [
    "## Como utilizar a função range\n",
    "\n",
    "range(início, fim, passo)\n",
    "Início da contagem <br>\n",
    "Fim da contagem <br>\n",
    "Passo = diferença entre o passo anterior e posterior"
   ]
  },
  {
   "cell_type": "code",
   "execution_count": 8,
   "metadata": {},
   "outputs": [
    {
     "output_type": "stream",
     "name": "stdout",
     "text": [
      "0 1 2 3 4 5 6 7 8 9 "
     ]
    }
   ],
   "source": [
    "for numero in range(0,10):\n",
    "    print(numero, end = ' ')"
   ]
  },
  {
   "cell_type": "code",
   "execution_count": 11,
   "metadata": {},
   "outputs": [
    {
     "output_type": "stream",
     "name": "stdout",
     "text": [
      "0 2 4 6 8 10 "
     ]
    }
   ],
   "source": [
    "for numero in range(0,11, 2):\n",
    "    print(numero, end = ' ')"
   ]
  },
  {
   "cell_type": "code",
   "execution_count": 10,
   "metadata": {},
   "outputs": [
    {
     "output_type": "stream",
     "name": "stdout",
     "text": [
      "1 3 5 7 9 "
     ]
    }
   ],
   "source": [
    "for numero in range(1,10, 2):\n",
    "    print(numero, end = ' ')"
   ]
  },
  {
   "cell_type": "code",
   "execution_count": 12,
   "metadata": {},
   "outputs": [
    {
     "output_type": "stream",
     "name": "stdout",
     "text": [
      "10 9 8 7 6 5 4 3 2 1 0 "
     ]
    }
   ],
   "source": [
    "for numero in range(10,-1,-1):\n",
    "    print(numero, end = ' ')"
   ]
  },
  {
   "cell_type": "code",
   "execution_count": 7,
   "metadata": {},
   "outputs": [
    {
     "name": "stdout",
     "output_type": "stream",
     "text": [
      "range(0, 5)\n",
      "0\n",
      "1\n",
      "2\n",
      "3\n",
      "4\n"
     ]
    }
   ],
   "source": [
    "lista = range(0,5)\n",
    "print(lista)\n",
    "for item in lista:\n",
    "    print(item)"
   ]
  },
  {
   "cell_type": "code",
   "execution_count": 8,
   "metadata": {},
   "outputs": [
    {
     "name": "stdout",
     "output_type": "stream",
     "text": [
      "10 8 6 4 2 0 "
     ]
    }
   ],
   "source": [
    "for numero in range(10,-1, -2):\n",
    "    print(numero, end = ' ')"
   ]
  },
  {
   "cell_type": "code",
   "execution_count": 9,
   "metadata": {
    "scrolled": true
   },
   "outputs": [
    {
     "name": "stdout",
     "output_type": "stream",
     "text": [
      "10 11 12 13 14 15 "
     ]
    }
   ],
   "source": [
    "lista = [10,11,12,13,14,15]\n",
    "for item in lista:\n",
    "    print(item, end = ' ')"
   ]
  },
  {
   "cell_type": "code",
   "execution_count": 10,
   "metadata": {},
   "outputs": [
    {
     "name": "stdout",
     "output_type": "stream",
     "text": [
      "banana, maça, pera, uva, "
     ]
    }
   ],
   "source": [
    "cesta_de_frutas = ['banana','maça','pera','uva']\n",
    "for fruta in cesta_de_frutas:\n",
    "    print(fruta, end = ', ')"
   ]
  },
  {
   "cell_type": "code",
   "execution_count": 11,
   "metadata": {},
   "outputs": [
    {
     "name": "stdout",
     "output_type": "stream",
     "text": [
      "Digite a nota do 1º aluno 10\n",
      "Digite a nota do 2º aluno 10\n",
      "Digite a nota do 3º aluno 10\n",
      "Digite a nota do 4º aluno 10\n",
      "Digite a nota do 5º aluno 10\n",
      "O somatório da nota dos alunos é igual à: 50.0\n",
      "A média da nota da turma é igual à: 10.0\n"
     ]
    }
   ],
   "source": [
    "soma_nota_turma = 0\n",
    "nota_turma = 0\n",
    "for num in range(1,6):\n",
    "    nota_turma = float(input('Digite a nota do {}º aluno '.format(num)))\n",
    "    soma_nota_turma = soma_nota_turma + nota_turma\n",
    "media_nota_turma = soma_nota_turma/5\n",
    "print('O somatório da nota dos alunos é igual à: {}'.format(soma_nota_turma))\n",
    "print('A média da nota da turma é igual à: {}'.format(media_nota_turma))"
   ]
  },
  {
   "cell_type": "code",
   "execution_count": 5,
   "metadata": {},
   "outputs": [
    {
     "output_type": "stream",
     "name": "stdout",
     "text": [
      "A média da turma é igual à: 7.083333333333333\n"
     ]
    }
   ],
   "source": [
    "media_turma = 0\n",
    "qtde_alunos = 0\n",
    "qtde_alunos = int(input('Digite a quantidade de alunos: '))\n",
    "for aluno in range(1,qtde_alunos+1): # 1 até 2 qtde_alunos+1 = 3 range stop = n - 1\n",
    "    soma_nota_ponderada = 0\n",
    "    soma_peso = 0\n",
    "    for prova in range (1,3): # Temos P1 e P2 [ 1, 2]\n",
    "        nota = float(input('Digite a nota da {}ª prova do {}º aluno: '.format(prova, aluno)))\n",
    "        peso = int(input('Digite o peso da {}ª prova: '.format(prova)))\n",
    "        soma_nota_ponderada += (nota*peso)\n",
    "        soma_peso += peso\n",
    "    media_turma = media_turma + (soma_nota_ponderada/soma_peso)\n",
    "media_turma = media_turma/qtde_alunos\n",
    "print('A média da turma é igual à: {}'.format(media_turma))"
   ]
  },
  {
   "cell_type": "code",
   "execution_count": 1,
   "metadata": {},
   "outputs": [
    {
     "name": "stdout",
     "output_type": "stream",
     "text": [
      "Fatorial de 0: 0! = 1\n",
      "Fatorial de 2: 2! = 2\n",
      "Fatorial de 4: 4! = 24\n",
      "Fatorial de 6: 6! = 720\n",
      "Fatorial de 8: 8! = 40320\n",
      "Fatorial de 10: 10! = 3628800\n"
     ]
    }
   ],
   "source": [
    "for numero in range(0,11): 4\n",
    "    fatorial = 1\n",
    "    if (numero%2 != 0):\n",
    "        continue            # 5 (exclusivo)\n",
    "    for valor in range(1,numero+1):\n",
    "        fatorial *= valor\n",
    "    print('Fatorial de {}: {}! = {}'.format(numero, numero, fatorial))"
   ]
  },
  {
   "cell_type": "code",
   "execution_count": 1,
   "metadata": {},
   "outputs": [
    {
     "name": "stdout",
     "output_type": "stream",
     "text": [
      "1a execução do loop\n",
      "2a execução do loop\n",
      "3a execução do loop\n"
     ]
    }
   ],
   "source": [
    "cont = 1\n",
    "while True:\n",
    "    print('{}a execução do loop'.format(cont))\n",
    "    cont += 1\n",
    "    if (cont>3):\n",
    "        break"
   ]
  },
  {
   "cell_type": "code",
   "execution_count": 4,
   "metadata": {},
   "outputs": [
    {
     "output_type": "stream",
     "name": "stdout",
     "text": [
      "2 4 6 8 10 12 14 "
     ]
    }
   ],
   "source": [
    "contador = 1\n",
    "while contador < 20:\n",
    "    contador += 1\n",
    "    if (contador == 15):\n",
    "        break\n",
    "    if (contador%2 == 1):\n",
    "        continue\n",
    "    print(contador, end = ' ')"
   ]
  },
  {
   "cell_type": "code",
   "execution_count": 5,
   "metadata": {},
   "outputs": [
    {
     "name": "stdout",
     "output_type": "stream",
     "text": [
      "banana, maça, pera, uva, "
     ]
    }
   ],
   "source": [
    "cesta_de_frutas = ['banana','maça','pera','uva']\n",
    "qtde_itens_cesta = len(cesta_de_frutas)\n",
    "contador = 0\n",
    "while (contador < qtde_itens_cesta):\n",
    "    print(cesta_de_frutas[contador], end = ', ')\n",
    "    contador += 1"
   ]
  },
  {
   "cell_type": "code",
   "execution_count": null,
   "metadata": {},
   "outputs": [],
   "source": [
    "lista = [5,6,7,8]\n",
    "tamanho_lista = len(lista)\n",
    "contador = 0\n",
    "while (contador < tamanho_lista):\n",
    "    print(lista[contador], end = ', ')\n",
    "    contador += 1"
   ]
  },
  {
   "cell_type": "code",
   "execution_count": 3,
   "metadata": {},
   "outputs": [
    {
     "output_type": "stream",
     "name": "stdout",
     "text": [
      "3\n5\n7\n9\n"
     ]
    }
   ],
   "source": [
    "contador = 1\n",
    "while contador < 10:\n",
    "    contador += 1\n",
    "    if (contador%2 == 0):\n",
    "        continue\n",
    "    print(contador)"
   ]
  },
  {
   "cell_type": "code",
   "execution_count": 7,
   "metadata": {},
   "outputs": [
    {
     "output_type": "stream",
     "name": "stdout",
     "text": [
      "1\n2\n3\n4\n5\n6\n"
     ]
    }
   ],
   "source": [
    "            # start, stop (n-1) => n = 7 => n-1 = 6\n",
    "for i in range(1, 7):\n",
    "    print(i)"
   ]
  },
  {
   "cell_type": "code",
   "execution_count": null,
   "metadata": {},
   "outputs": [],
   "source": []
  }
 ],
 "metadata": {
  "kernelspec": {
   "name": "python385jvsc74a57bd02dbb46e0973564b1bd352b07c19f8549ceccd34497c9cf7cd1d040d62a0f2a0f",
   "display_name": "Python 3.8.5 64-bit ('dissertacao': conda)"
  },
  "language_info": {
   "codemirror_mode": {
    "name": "ipython",
    "version": 3
   },
   "file_extension": ".py",
   "mimetype": "text/x-python",
   "name": "python",
   "nbconvert_exporter": "python",
   "pygments_lexer": "ipython3",
   "version": "3.8.5-final"
  }
 },
 "nbformat": 4,
 "nbformat_minor": 4
}